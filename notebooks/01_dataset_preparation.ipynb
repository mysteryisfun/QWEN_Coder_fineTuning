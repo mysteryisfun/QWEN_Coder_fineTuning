{
 "cells": [
  {
   "cell_type": "markdown",
   "id": "acc97c24",
   "metadata": {},
   "source": [
    "# Dataset Preparation: CodeRM-UnitTest Loading and Splitting\n",
    "\n",
    "This notebook handles Step 2 of our masterplan:\n",
    "- Load CodeRM-UnitTest dataset from Hugging Face\n",
    "- Explore dataset structure and understand the format\n",
    "- Sample 20k records from the full 77.2k dataset\n",
    "- Create 80/10/10 split (16k train / 2k val / 2k test)\n",
    "- Save preprocessed splits locally"
   ]
  },
  {
   "cell_type": "markdown",
   "id": "d461bc6a",
   "metadata": {},
   "source": [
    "## 1. Import Required Libraries"
   ]
  },
  {
   "cell_type": "code",
   "execution_count": null,
   "id": "e8f7c35e",
   "metadata": {},
   "outputs": [],
   "source": [
    "import os\n",
    "import pandas as pd\n",
    "import numpy as np\n",
    "import logging\n",
    "from datetime import datetime\n",
    "from datasets import load_dataset\n",
    "from sklearn.model_selection import train_test_split\n",
    "import json\n",
    "import pickle\n",
    "from pathlib import Path\n",
    "\n",
    "# Set up logging\n",
    "logging.basicConfig(\n",
    "    level=logging.INFO,\n",
    "    format='%(asctime)s - %(levelname)s - %(message)s',\n",
    "    handlers=[\n",
    "        logging.FileHandler('../logs/dataset_preparation.log'),\n",
    "        logging.StreamHandler()\n",
    "    ]\n",
    ")\n",
    "logger = logging.getLogger(__name__)\n",
    "\n",
    "print(\"Libraries imported successfully!\")\n",
    "logger.info(\"Starting dataset preparation process\")"
   ]
  },
  {
   "cell_type": "markdown",
   "id": "38166b9d",
   "metadata": {},
   "source": [
    "## 2. Setup Environment and GPU Check"
   ]
  },
  {
   "cell_type": "code",
   "execution_count": null,
   "id": "fa88d1da",
   "metadata": {},
   "outputs": [],
   "source": [
    "import torch\n",
    "\n",
    "# Check GPU availability and memory\n",
    "device = torch.device(\"cuda\" if torch.cuda.is_available() else \"cpu\")\n",
    "print(f\"Device: {device}\")\n",
    "\n",
    "if torch.cuda.is_available():\n",
    "    gpu_memory = torch.cuda.get_device_properties(0).total_memory / 1024**3\n",
    "    print(f\"GPU: {torch.cuda.get_device_name(0)}\")\n",
    "    print(f\"Total GPU Memory: {gpu_memory:.2f} GB\")\n",
    "    print(f\"Available GPU Memory: {torch.cuda.memory_reserved(0) / 1024**3:.2f} GB\")\n",
    "    \n",
    "    logger.info(f\"GPU detected: {torch.cuda.get_device_name(0)} with {gpu_memory:.2f} GB memory\")\n",
    "else:\n",
    "    print(\"No GPU available, using CPU\")\n",
    "    logger.warning(\"No GPU available, training will use CPU\")\n",
    "\n",
    "# Create necessary directories\n",
    "os.makedirs('../data', exist_ok=True)\n",
    "os.makedirs('../logs', exist_ok=True)\n",
    "print(\"Directory structure verified\")"
   ]
  },
  {
   "cell_type": "markdown",
   "id": "d711b65a",
   "metadata": {},
   "source": [
    "## 3. Load CodeRM-UnitTest Dataset"
   ]
  },
  {
   "cell_type": "code",
   "execution_count": null,
   "id": "495b5d0d",
   "metadata": {},
   "outputs": [],
   "source": [
    "# Load the dataset from Hugging Face\n",
    "logger.info(\"Loading CodeRM-UnitTest dataset from Hugging Face\")\n",
    "\n",
    "try:\n",
    "    dataset = load_dataset(\"KAKA22/CodeRM-UnitTest\")\n",
    "    print(f\"Dataset loaded successfully!\")\n",
    "    print(f\"Dataset structure: {dataset}\")\n",
    "    \n",
    "    # Get the train split (assuming it's the main split)\n",
    "    train_data = dataset['train']\n",
    "    print(f\"Total samples in dataset: {len(train_data)}\")\n",
    "    \n",
    "    logger.info(f\"Dataset loaded with {len(train_data)} samples\")\n",
    "    \n",
    "except Exception as e:\n",
    "    logger.error(f\"Error loading dataset: {str(e)}\")\n",
    "    print(f\"Error: {str(e)}\")\n",
    "    raise"
   ]
  },
  {
   "cell_type": "markdown",
   "id": "94734e24",
   "metadata": {},
   "source": [
    "## 4. Explore Dataset Structure"
   ]
  },
  {
   "cell_type": "code",
   "execution_count": null,
   "id": "9102f0bf",
   "metadata": {},
   "outputs": [],
   "source": [
    "# Examine the first few samples\n",
    "print(\"=== Dataset Features ===\")\n",
    "print(train_data.features)\n",
    "\n",
    "print(\"\\n=== First Sample ===\")\n",
    "first_sample = train_data[0]\n",
    "for key, value in first_sample.items():\n",
    "    if isinstance(value, str) and len(value) > 200:\n",
    "        print(f\"{key}: {value[:200]}...\")\n",
    "    else:\n",
    "        print(f\"{key}: {value}\")\n",
    "\n",
    "logger.info(\"Dataset structure exploration completed\")"
   ]
  },
  {
   "cell_type": "code",
   "execution_count": null,
   "id": "327552cd",
   "metadata": {},
   "outputs": [],
   "source": [
    "# Examine unit tests structure\n",
    "print(\"=== Unit Tests Structure ===\")\n",
    "if 'unit_tests' in first_sample:\n",
    "    unit_tests = first_sample['unit_tests']\n",
    "    print(f\"Number of unit tests for first sample: {len(unit_tests)}\")\n",
    "    \n",
    "    if len(unit_tests) > 0:\n",
    "        print(\"\\n=== First Unit Test ===\")\n",
    "        first_test = unit_tests[0]\n",
    "        for key, value in first_test.items():\n",
    "            if isinstance(value, str) and len(value) > 200:\n",
    "                print(f\"{key}: {value[:200]}...\")\n",
    "            else:\n",
    "                print(f\"{key}: {value}\")\n",
    "\n",
    "# Check data quality metrics\n",
    "print(\"\\n=== Quality Metrics Analysis ===\")\n",
    "if 'unit_tests' in first_sample and len(first_sample['unit_tests']) > 0:\n",
    "    far_values = [test.get('FAR', 0) for test in first_sample['unit_tests']]\n",
    "    frr_values = [test.get('FRR', 0) for test in first_sample['unit_tests']]\n",
    "    print(f\"FAR range in first sample: {min(far_values):.3f} - {max(far_values):.3f}\")\n",
    "    print(f\"FRR range in first sample: {min(frr_values):.3f} - {max(frr_values):.3f}\")"
   ]
  },
  {
   "cell_type": "markdown",
   "id": "01d012be",
   "metadata": {},
   "source": [
    "## 5. Sample 20k Records from Dataset"
   ]
  },
  {
   "cell_type": "code",
   "execution_count": null,
   "id": "0ad4b8b1",
   "metadata": {},
   "outputs": [],
   "source": [
    "# Sample 20k records from the full dataset\n",
    "SAMPLE_SIZE = 20000\n",
    "total_samples = len(train_data)\n",
    "\n",
    "logger.info(f\"Sampling {SAMPLE_SIZE} records from {total_samples} total samples\")\n",
    "\n",
    "if total_samples >= SAMPLE_SIZE:\n",
    "    # Use random sampling to get diverse data\n",
    "    np.random.seed(42)  # For reproducibility\n",
    "    sample_indices = np.random.choice(total_samples, SAMPLE_SIZE, replace=False)\n",
    "    sample_indices = sorted(sample_indices)  # Sort for efficient access\n",
    "    \n",
    "    sampled_data = train_data.select(sample_indices)\n",
    "    print(f\"Successfully sampled {len(sampled_data)} records\")\n",
    "    \n",
    "    logger.info(f\"Sampled {len(sampled_data)} records using random sampling\")\n",
    "else:\n",
    "    print(f\"Dataset has only {total_samples} samples, using all available data\")\n",
    "    sampled_data = train_data\n",
    "    \n",
    "    logger.warning(f\"Dataset smaller than requested sample size, using all {total_samples} samples\")"
   ]
  },
  {
   "cell_type": "markdown",
   "id": "2d5bb138",
   "metadata": {},
   "source": [
    "## 6. Create 80/10/10 Data Splits"
   ]
  },
  {
   "cell_type": "code",
   "execution_count": null,
   "id": "8bb8b721",
   "metadata": {},
   "outputs": [],
   "source": [
    "# Convert to pandas DataFrame for easier splitting\n",
    "logger.info(\"Converting dataset to pandas DataFrame for splitting\")\n",
    "\n",
    "# Convert the sampled data to a list of dictionaries\n",
    "data_list = []\n",
    "for i in range(len(sampled_data)):\n",
    "    sample = sampled_data[i]\n",
    "    data_list.append(sample)\n",
    "\n",
    "print(f\"Converted {len(data_list)} samples to list format\")\n",
    "\n",
    "# Create indices for splitting\n",
    "indices = list(range(len(data_list)))\n",
    "\n",
    "# First split: 80% train, 20% temp (which will become 10% val + 10% test)\n",
    "train_indices, temp_indices = train_test_split(\n",
    "    indices, test_size=0.2, random_state=42, shuffle=True\n",
    ")\n",
    "\n",
    "# Second split: Split the 20% into 10% val and 10% test\n",
    "val_indices, test_indices = train_test_split(\n",
    "    temp_indices, test_size=0.5, random_state=42, shuffle=True\n",
    ")\n",
    "\n",
    "print(f\"Data split sizes:\")\n",
    "print(f\"Train: {len(train_indices)} samples ({len(train_indices)/len(data_list)*100:.1f}%)\")\n",
    "print(f\"Validation: {len(val_indices)} samples ({len(val_indices)/len(data_list)*100:.1f}%)\")\n",
    "print(f\"Test: {len(test_indices)} samples ({len(test_indices)/len(data_list)*100:.1f}%)\")\n",
    "\n",
    "logger.info(f\"Created splits - Train: {len(train_indices)}, Val: {len(val_indices)}, Test: {len(test_indices)}\")"
   ]
  },
  {
   "cell_type": "code",
   "execution_count": null,
   "id": "e02994dd",
   "metadata": {},
   "outputs": [],
   "source": [
    "# Create the actual data splits\n",
    "train_split = [data_list[i] for i in train_indices]\n",
    "val_split = [data_list[i] for i in val_indices]\n",
    "test_split = [data_list[i] for i in test_indices]\n",
    "\n",
    "print(\"Data splits created successfully!\")\n",
    "print(f\"Train split: {len(train_split)} samples\")\n",
    "print(f\"Validation split: {len(val_split)} samples\")\n",
    "print(f\"Test split: {len(test_split)} samples\")"
   ]
  },
  {
   "cell_type": "markdown",
   "id": "3714570a",
   "metadata": {},
   "source": [
    "## 7. Save Preprocessed Splits"
   ]
  },
  {
   "cell_type": "code",
   "execution_count": null,
   "id": "342cdb7e",
   "metadata": {},
   "outputs": [],
   "source": [
    "# Save splits using pickle for Python objects\n",
    "data_dir = Path('../data')\n",
    "data_dir.mkdir(exist_ok=True)\n",
    "\n",
    "logger.info(\"Saving data splits to disk\")\n",
    "\n",
    "# Save splits\n",
    "with open(data_dir / 'train_split.pkl', 'wb') as f:\n",
    "    pickle.dump(train_split, f)\n",
    "    \n",
    "with open(data_dir / 'val_split.pkl', 'wb') as f:\n",
    "    pickle.dump(val_split, f)\n",
    "    \n",
    "with open(data_dir / 'test_split.pkl', 'wb') as f:\n",
    "    pickle.dump(test_split, f)\n",
    "\n",
    "print(\"Data splits saved successfully!\")\n",
    "\n",
    "# Save metadata\n",
    "metadata = {\n",
    "    'total_samples': len(data_list),\n",
    "    'train_size': len(train_split),\n",
    "    'val_size': len(val_split),\n",
    "    'test_size': len(test_split),\n",
    "    'sample_size': SAMPLE_SIZE,\n",
    "    'original_dataset_size': total_samples,\n",
    "    'split_ratio': '80/10/10',\n",
    "    'random_seed': 42,\n",
    "    'created_at': datetime.now().isoformat(),\n",
    "    'dataset_name': 'KAKA22/CodeRM-UnitTest'\n",
    "}\n",
    "\n",
    "with open(data_dir / 'metadata.json', 'w') as f:\n",
    "    json.dump(metadata, f, indent=2)\n",
    "\n",
    "print(f\"Metadata saved to {data_dir / 'metadata.json'}\")\n",
    "logger.info(f\"All data splits and metadata saved to {data_dir}\")"
   ]
  },
  {
   "cell_type": "markdown",
   "id": "74590b02",
   "metadata": {},
   "source": [
    "## 8. Verify Saved Data"
   ]
  },
  {
   "cell_type": "code",
   "execution_count": null,
   "id": "db2cdeb1",
   "metadata": {},
   "outputs": [],
   "source": [
    "# Verify the saved data by loading it back\n",
    "logger.info(\"Verifying saved data integrity\")\n",
    "\n",
    "try:\n",
    "    # Load splits back\n",
    "    with open(data_dir / 'train_split.pkl', 'rb') as f:\n",
    "        loaded_train = pickle.load(f)\n",
    "        \n",
    "    with open(data_dir / 'val_split.pkl', 'rb') as f:\n",
    "        loaded_val = pickle.load(f)\n",
    "        \n",
    "    with open(data_dir / 'test_split.pkl', 'rb') as f:\n",
    "        loaded_test = pickle.load(f)\n",
    "    \n",
    "    # Load metadata\n",
    "    with open(data_dir / 'metadata.json', 'r') as f:\n",
    "        loaded_metadata = json.load(f)\n",
    "    \n",
    "    print(\"=== Verification Results ===\")\n",
    "    print(f\"Train split loaded: {len(loaded_train)} samples\")\n",
    "    print(f\"Val split loaded: {len(loaded_val)} samples\")\n",
    "    print(f\"Test split loaded: {len(loaded_test)} samples\")\n",
    "    print(f\"\\nMetadata:\")\n",
    "    for key, value in loaded_metadata.items():\n",
    "        print(f\"  {key}: {value}\")\n",
    "    \n",
    "    # Quick integrity check\n",
    "    assert len(loaded_train) == len(train_split), \"Train split size mismatch\"\n",
    "    assert len(loaded_val) == len(val_split), \"Val split size mismatch\"\n",
    "    assert len(loaded_test) == len(test_split), \"Test split size mismatch\"\n",
    "    \n",
    "    print(\"\\n✅ Data integrity verification passed!\")\n",
    "    logger.info(\"Data integrity verification completed successfully\")\n",
    "    \n",
    "except Exception as e:\n",
    "    print(f\"❌ Verification failed: {str(e)}\")\n",
    "    logger.error(f\"Data verification failed: {str(e)}\")\n",
    "    raise"
   ]
  },
  {
   "cell_type": "markdown",
   "id": "6ef7359b",
   "metadata": {},
   "source": [
    "## 9. Summary and Next Steps"
   ]
  },
  {
   "cell_type": "code",
   "execution_count": null,
   "id": "f1ac4b49",
   "metadata": {},
   "outputs": [],
   "source": [
    "print(\"=== Dataset Preparation Summary ===\")\n",
    "print(f\"✅ Loaded CodeRM-UnitTest dataset ({total_samples} total samples)\")\n",
    "print(f\"✅ Sampled {len(data_list)} records for training\")\n",
    "print(f\"✅ Created 80/10/10 splits:\")\n",
    "print(f\"   - Train: {len(train_split)} samples\")\n",
    "print(f\"   - Validation: {len(val_split)} samples\")\n",
    "print(f\"   - Test: {len(test_split)} samples\")\n",
    "print(f\"✅ Saved all splits to {data_dir}\")\n",
    "print(f\"✅ Data integrity verified\")\n",
    "\n",
    "print(\"\\n=== Files Created ===\")\n",
    "for file_path in data_dir.glob('*'):\n",
    "    file_size = file_path.stat().st_size / 1024 / 1024  # MB\n",
    "    print(f\"  {file_path.name}: {file_size:.2f} MB\")\n",
    "\n",
    "print(\"\\n=== Next Steps ===\")\n",
    "print(\"1. ✅ Step 2 Complete: Dataset loading and splitting\")\n",
    "print(\"2. 🔄 Step 3: Data preprocessing and tokenization\")\n",
    "print(\"3. ⏳ Step 4: Model loading and configuration\")\n",
    "print(\"4. ⏳ Step 5: QLoRA/PEFT setup\")\n",
    "\n",
    "logger.info(\"Dataset preparation completed successfully!\")\n",
    "logger.info(f\"Ready to proceed with Step 3: Data preprocessing\")"
   ]
  }
 ],
 "metadata": {
  "kernelspec": {
   "display_name": "venv",
   "language": "python",
   "name": "python3"
  },
  "language_info": {
   "codemirror_mode": {
    "name": "ipython",
    "version": 3
   },
   "file_extension": ".py",
   "mimetype": "text/x-python",
   "name": "python",
   "nbconvert_exporter": "python",
   "pygments_lexer": "ipython3",
   "version": "3.12.3"
  }
 },
 "nbformat": 4,
 "nbformat_minor": 5
}
